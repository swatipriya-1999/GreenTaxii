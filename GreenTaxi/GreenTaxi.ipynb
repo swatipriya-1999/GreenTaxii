{
 "cells": [
  {
   "cell_type": "code",
   "execution_count": 1,
   "id": "941ff1f3",
   "metadata": {},
   "outputs": [],
   "source": [
    "import pandas as pd\n",
    "import numpy as np\n",
    "import matplotlib.pyplot as plt\n",
    "%matplotlib inline"
   ]
  },
  {
   "cell_type": "code",
   "execution_count": 2,
   "id": "38ebae47",
   "metadata": {},
   "outputs": [
    {
     "name": "stdout",
     "output_type": "stream",
     "text": [
      "Requirement already satisfied: pyarrow in c:\\users\\swati\\anaconda3\\lib\\site-packages (11.0.0)\n",
      "Requirement already satisfied: numpy>=1.16.6 in c:\\users\\swati\\anaconda3\\lib\\site-packages (from pyarrow) (1.24.3)\n"
     ]
    }
   ],
   "source": [
    "!pip install pyarrow"
   ]
  },
  {
   "cell_type": "code",
   "execution_count": 3,
   "id": "5edfc79c",
   "metadata": {},
   "outputs": [
    {
     "data": {
      "text/plain": [
       "'C:\\\\Users\\\\swati\\\\Documents\\\\python datasets'"
      ]
     },
     "execution_count": 3,
     "metadata": {},
     "output_type": "execute_result"
    }
   ],
   "source": [
    "import os\n",
    "os.getcwd()"
   ]
  },
  {
   "cell_type": "code",
   "execution_count": 6,
   "id": "29cc327b",
   "metadata": {},
   "outputs": [],
   "source": [
    "greentaxi=pd.read_parquet(\"green_tripdata_2023-05.parquet\",engine=\"pyarrow\")"
   ]
  },
  {
   "cell_type": "code",
   "execution_count": 7,
   "id": "863d9998",
   "metadata": {},
   "outputs": [
    {
     "name": "stdout",
     "output_type": "stream",
     "text": [
      "<class 'pandas.core.frame.DataFrame'>\n",
      "RangeIndex: 69174 entries, 0 to 69173\n",
      "Data columns (total 20 columns):\n",
      " #   Column                 Non-Null Count  Dtype         \n",
      "---  ------                 --------------  -----         \n",
      " 0   VendorID               69174 non-null  int32         \n",
      " 1   lpep_pickup_datetime   69174 non-null  datetime64[ns]\n",
      " 2   lpep_dropoff_datetime  69174 non-null  datetime64[ns]\n",
      " 3   store_and_fwd_flag     64442 non-null  object        \n",
      " 4   RatecodeID             64442 non-null  float64       \n",
      " 5   PULocationID           69174 non-null  int32         \n",
      " 6   DOLocationID           69174 non-null  int32         \n",
      " 7   passenger_count        64442 non-null  float64       \n",
      " 8   trip_distance          69174 non-null  float64       \n",
      " 9   fare_amount            69174 non-null  float64       \n",
      " 10  extra                  69174 non-null  float64       \n",
      " 11  mta_tax                69174 non-null  float64       \n",
      " 12  tip_amount             69174 non-null  float64       \n",
      " 13  tolls_amount           69174 non-null  float64       \n",
      " 14  ehail_fee              0 non-null      float64       \n",
      " 15  improvement_surcharge  69174 non-null  float64       \n",
      " 16  total_amount           69174 non-null  float64       \n",
      " 17  payment_type           64442 non-null  float64       \n",
      " 18  trip_type              64439 non-null  float64       \n",
      " 19  congestion_surcharge   64442 non-null  float64       \n",
      "dtypes: datetime64[ns](2), float64(14), int32(3), object(1)\n",
      "memory usage: 9.8+ MB\n"
     ]
    }
   ],
   "source": [
    "greentaxi.info()"
   ]
  },
  {
   "cell_type": "code",
   "execution_count": 8,
   "id": "e6aad06c",
   "metadata": {},
   "outputs": [],
   "source": [
    "greentaxi=greentaxi.drop(\"ehail_fee\",axis=1)"
   ]
  },
  {
   "cell_type": "code",
   "execution_count": 10,
   "id": "f93832ea",
   "metadata": {},
   "outputs": [],
   "source": [
    "# create a new variable called trip duration\n",
    "greentaxi[\"trip_duration\"]=greentaxi.lpep_dropoff_datetime-greentaxi.lpep_pickup_datetime"
   ]
  },
  {
   "cell_type": "code",
   "execution_count": 12,
   "id": "39988a04",
   "metadata": {},
   "outputs": [
    {
     "data": {
      "text/plain": [
       "0   0 days 00:13:16\n",
       "1   0 days 00:20:22\n",
       "2   0 days 00:06:53\n",
       "3   0 days 00:20:27\n",
       "4   0 days 00:03:28\n",
       "Name: trip_duration, dtype: timedelta64[ns]"
      ]
     },
     "execution_count": 12,
     "metadata": {},
     "output_type": "execute_result"
    }
   ],
   "source": [
    "greentaxi.trip_duration.head()"
   ]
  },
  {
   "cell_type": "code",
   "execution_count": 13,
   "id": "251fb166",
   "metadata": {},
   "outputs": [],
   "source": [
    "greentaxi.trip_duration=greentaxi.trip_duration.dt.total_seconds()/60"
   ]
  },
  {
   "cell_type": "code",
   "execution_count": 19,
   "id": "76886be3",
   "metadata": {},
   "outputs": [],
   "source": [
    "greentaxi[\"weekday\"]=greentaxi.lpep_dropoff_datetime.dt.weekday"
   ]
  },
  {
   "cell_type": "code",
   "execution_count": 20,
   "id": "42bbdcb0",
   "metadata": {},
   "outputs": [
    {
     "data": {
      "text/plain": [
       "2    11980\n",
       "1    11062\n",
       "0    10934\n",
       "3    10085\n",
       "4     9737\n",
       "5     8144\n",
       "6     7232\n",
       "Name: weekday, dtype: int64"
      ]
     },
     "execution_count": 20,
     "metadata": {},
     "output_type": "execute_result"
    }
   ],
   "source": [
    "greentaxi.weekday.value_counts(dropna=False)\n",
    "# Monday -0 &sunday -6"
   ]
  },
  {
   "cell_type": "code",
   "execution_count": 22,
   "id": "591a1c57",
   "metadata": {},
   "outputs": [],
   "source": [
    "greentaxi[\"hourofday\"]=greentaxi.lpep_dropoff_datetime.dt.hour"
   ]
  },
  {
   "cell_type": "code",
   "execution_count": 23,
   "id": "0caeb8ac",
   "metadata": {},
   "outputs": [
    {
     "data": {
      "text/plain": [
       "18    5497\n",
       "17    5260\n",
       "16    4986\n",
       "19    4707\n",
       "15    4693\n",
       "14    4140\n",
       "12    3893\n",
       "11    3729\n",
       "13    3676\n",
       "9     3620\n",
       "10    3548\n",
       "20    3458\n",
       "8     3088\n",
       "21    2999\n",
       "22    2461\n",
       "7     2376\n",
       "23    1896\n",
       "0     1337\n",
       "6      915\n",
       "1      873\n",
       "2      645\n",
       "3      524\n",
       "4      439\n",
       "5      414\n",
       "Name: hourofday, dtype: int64"
      ]
     },
     "execution_count": 23,
     "metadata": {},
     "output_type": "execute_result"
    }
   ],
   "source": [
    "greentaxi.hourofday.value_counts(dropna=False)"
   ]
  },
  {
   "cell_type": "code",
   "execution_count": 25,
   "id": "2731f33c",
   "metadata": {},
   "outputs": [
    {
     "data": {
      "text/plain": [
       "trip_type                4735\n",
       "store_and_fwd_flag       4732\n",
       "RatecodeID               4732\n",
       "congestion_surcharge     4732\n",
       "passenger_count          4732\n",
       "payment_type             4732\n",
       "VendorID                    0\n",
       "tolls_amount                0\n",
       "weekday                     0\n",
       "trip_duration               0\n",
       "total_amount                0\n",
       "improvement_surcharge       0\n",
       "mta_tax                     0\n",
       "tip_amount                  0\n",
       "lpep_pickup_datetime        0\n",
       "extra                       0\n",
       "fare_amount                 0\n",
       "trip_distance               0\n",
       "DOLocationID                0\n",
       "PULocationID                0\n",
       "lpep_dropoff_datetime       0\n",
       "hourofday                   0\n",
       "dtype: int64"
      ]
     },
     "execution_count": 25,
     "metadata": {},
     "output_type": "execute_result"
    }
   ],
   "source": [
    "greentaxi.isnull().sum().sort_values(ascending=False)"
   ]
  },
  {
   "cell_type": "code",
   "execution_count": 30,
   "id": "49b21a23",
   "metadata": {},
   "outputs": [
    {
     "data": {
      "text/plain": [
       "1.0    66991\n",
       "2.0     2183\n",
       "Name: trip_type, dtype: int64"
      ]
     },
     "execution_count": 30,
     "metadata": {},
     "output_type": "execute_result"
    }
   ],
   "source": [
    "greentaxi.trip_type.value_counts(dropna=False)"
   ]
  },
  {
   "cell_type": "code",
   "execution_count": 31,
   "id": "d2f13e33",
   "metadata": {},
   "outputs": [],
   "source": [
    "greentaxi.trip_type=greentaxi.trip_type.fillna(1.0)"
   ]
  },
  {
   "cell_type": "code",
   "execution_count": 32,
   "id": "2c889e9b",
   "metadata": {},
   "outputs": [
    {
     "data": {
      "text/plain": [
       "N    68972\n",
       "Y      202\n",
       "Name: store_and_fwd_flag, dtype: int64"
      ]
     },
     "execution_count": 32,
     "metadata": {},
     "output_type": "execute_result"
    }
   ],
   "source": [
    "greentaxi.store_and_fwd_flag.value_counts(dropna=False)"
   ]
  },
  {
   "cell_type": "code",
   "execution_count": 29,
   "id": "00ba733a",
   "metadata": {},
   "outputs": [],
   "source": [
    "greentaxi.store_and_fwd_flag=greentaxi.store_and_fwd_flag.fillna(\"N\")"
   ]
  },
  {
   "cell_type": "code",
   "execution_count": 33,
   "id": "a2412cca",
   "metadata": {},
   "outputs": [
    {
     "data": {
      "text/plain": [
       "N    68972\n",
       "Y      202\n",
       "Name: store_and_fwd_flag, dtype: int64"
      ]
     },
     "execution_count": 33,
     "metadata": {},
     "output_type": "execute_result"
    }
   ],
   "source": [
    "greentaxi.store_and_fwd_flag.value_counts(dropna=False)"
   ]
  },
  {
   "cell_type": "code",
   "execution_count": 34,
   "id": "fa8f3c6b",
   "metadata": {},
   "outputs": [],
   "source": [
    "greentaxi.RatecodeID=greentaxi.RatecodeID.fillna(1.0)"
   ]
  },
  {
   "cell_type": "code",
   "execution_count": 35,
   "id": "07439b5a",
   "metadata": {},
   "outputs": [
    {
     "data": {
      "text/plain": [
       "count    64442.000000\n",
       "mean         0.746311\n",
       "std          1.223041\n",
       "min         -2.750000\n",
       "25%          0.000000\n",
       "50%          0.000000\n",
       "75%          2.750000\n",
       "max          2.750000\n",
       "Name: congestion_surcharge, dtype: float64"
      ]
     },
     "execution_count": 35,
     "metadata": {},
     "output_type": "execute_result"
    }
   ],
   "source": [
    "greentaxi.congestion_surcharge.describe()"
   ]
  },
  {
   "cell_type": "code",
   "execution_count": 36,
   "id": "70b42cd3",
   "metadata": {},
   "outputs": [],
   "source": [
    "greentaxi.congestion_surcharge=greentaxi.congestion_surcharge.fillna(greentaxi.congestion_surcharge.median())"
   ]
  },
  {
   "cell_type": "code",
   "execution_count": 38,
   "id": "81e8a3f2",
   "metadata": {},
   "outputs": [
    {
     "data": {
      "text/plain": [
       "1.0    54760\n",
       "2.0     5632\n",
       "NaN     4732\n",
       "5.0     1466\n",
       "3.0      937\n",
       "6.0      755\n",
       "0.0      628\n",
       "4.0      255\n",
       "7.0        7\n",
       "9.0        1\n",
       "8.0        1\n",
       "Name: passenger_count, dtype: int64"
      ]
     },
     "execution_count": 38,
     "metadata": {},
     "output_type": "execute_result"
    }
   ],
   "source": [
    "greentaxi.passenger_count.value_counts(dropna=False)"
   ]
  },
  {
   "cell_type": "code",
   "execution_count": 42,
   "id": "b2b15e6d",
   "metadata": {},
   "outputs": [],
   "source": [
    "greentaxi.passenger_count=greentaxi.passenger_count.fillna(1.0)"
   ]
  },
  {
   "cell_type": "code",
   "execution_count": 43,
   "id": "f90baf63",
   "metadata": {},
   "outputs": [
    {
     "data": {
      "text/plain": [
       "1.0    42558\n",
       "2.0    21337\n",
       "NaN     4732\n",
       "3.0      402\n",
       "4.0      144\n",
       "5.0        1\n",
       "Name: payment_type, dtype: int64"
      ]
     },
     "execution_count": 43,
     "metadata": {},
     "output_type": "execute_result"
    }
   ],
   "source": [
    "greentaxi.payment_type.value_counts(dropna=False)"
   ]
  },
  {
   "cell_type": "code",
   "execution_count": 44,
   "id": "b4a13c04",
   "metadata": {},
   "outputs": [],
   "source": [
    "greentaxi.payment_type=greentaxi.payment_type.fillna(1.0)"
   ]
  },
  {
   "cell_type": "code",
   "execution_count": 45,
   "id": "c8ae4919",
   "metadata": {},
   "outputs": [
    {
     "data": {
      "text/plain": [
       "1.0    47290\n",
       "2.0    21337\n",
       "3.0      402\n",
       "4.0      144\n",
       "5.0        1\n",
       "Name: payment_type, dtype: int64"
      ]
     },
     "execution_count": 45,
     "metadata": {},
     "output_type": "execute_result"
    }
   ],
   "source": [
    "greentaxi.payment_type.value_counts(dropna=False)"
   ]
  },
  {
   "cell_type": "code",
   "execution_count": 46,
   "id": "2dffd55d",
   "metadata": {},
   "outputs": [
    {
     "data": {
      "text/plain": [
       "Index(['VendorID', 'lpep_pickup_datetime', 'lpep_dropoff_datetime',\n",
       "       'store_and_fwd_flag', 'RatecodeID', 'PULocationID', 'DOLocationID',\n",
       "       'passenger_count', 'trip_distance', 'fare_amount', 'extra', 'mta_tax',\n",
       "       'tip_amount', 'tolls_amount', 'improvement_surcharge', 'total_amount',\n",
       "       'payment_type', 'trip_type', 'congestion_surcharge', 'trip_duration',\n",
       "       'weekday', 'hourofday'],\n",
       "      dtype='object')"
      ]
     },
     "execution_count": 46,
     "metadata": {},
     "output_type": "execute_result"
    }
   ],
   "source": [
    "greentaxi.columns"
   ]
  },
  {
   "cell_type": "code",
   "execution_count": 48,
   "id": "d3714ff7",
   "metadata": {},
   "outputs": [
    {
     "data": {
      "text/plain": [
       "<Axes: ylabel='trip_type'>"
      ]
     },
     "execution_count": 48,
     "metadata": {},
     "output_type": "execute_result"
    },
    {
     "data": {
      "image/png": "[encoded data removed]",
      "text/plain": [
       "<Figure size 640x480 with 1 Axes>"
      ]
     },
     "metadata": {},
     "output_type": "display_data"
    }
   ],
   "source": [
    "greentaxi.trip_type.value_counts().plot(kind='pie')"
   ]
  },
  {
   "cell_type": "code",
   "execution_count": 50,
   "id": "5ee8d9c3",
   "metadata": {},
   "outputs": [
    {
     "data": {
      "text/plain": [
       "<Axes: ylabel='payment_type'>"
      ]
     },
     "execution_count": 50,
     "metadata": {},
     "output_type": "execute_result"
    },
    {
     "data": {
      "image/png": "[encoded data removed]",
      "text/plain": [
       "<Figure size 640x480 with 1 Axes>"
      ]
     },
     "metadata": {},
     "output_type": "display_data"
    }
   ],
   "source": [
    "greentaxi.payment_type.value_counts().plot(kind='pie')"
   ]
  },
  {
   "cell_type": "code",
   "execution_count": 51,
   "id": "4f49b791",
   "metadata": {},
   "outputs": [
    {
     "data": {
      "text/plain": [
       "<Axes: ylabel='RatecodeID'>"
      ]
     },
     "execution_count": 51,
     "metadata": {},
     "output_type": "execute_result"
    },
    {
     "data": {
      "image/png": "[encoded data removed]",
      "text/plain": [
       "<Figure size 640x480 with 1 Axes>"
      ]
     },
     "metadata": {},
     "output_type": "display_data"
    }
   ],
   "source": [
    "greentaxi.RatecodeID.value_counts().plot(kind='pie')"
   ]
  },
  {
   "cell_type": "code",
   "execution_count": 53,
   "id": "69cb77b4",
   "metadata": {},
   "outputs": [
    {
     "data": {
      "image/png": "[encoded data removed]",
      "text/plain": [
       "<Figure size 640x480 with 1 Axes>"
      ]
     },
     "metadata": {},
     "output_type": "display_data"
    }
   ],
   "source": [
    "ax=pd.crosstab(greentaxi.weekday,greentaxi.trip_type).plot(kind='bar',stacked=True)\n",
    "for i in ax.containers:\n",
    "    ax.bar_label(i,label_type=\"center\")"
   ]
  },
  {
   "cell_type": "code",
   "execution_count": 55,
   "id": "2fe70981",
   "metadata": {},
   "outputs": [
    {
     "data": {
      "image/png": "[encoded data removed]",
      "text/plain": [
       "<Figure size 640x480 with 1 Axes>"
      ]
     },
     "metadata": {},
     "output_type": "display_data"
    }
   ],
   "source": [
    "ax=pd.crosstab(greentaxi.weekday,greentaxi.payment_type).plot(kind='bar',stacked=True)\n",
    "for i in ax.containers:\n",
    "    ax.bar_label(i,label_type=\"center\")"
   ]
  },
  {
   "cell_type": "code",
   "execution_count": 57,
   "id": "8b38ad35",
   "metadata": {},
   "outputs": [
    {
     "data": {
      "image/png": "[encoded data removed]",
      "text/plain": [
       "<Figure size 640x480 with 1 Axes>"
      ]
     },
     "metadata": {},
     "output_type": "display_data"
    }
   ],
   "source": [
    "ax=pd.crosstab(greentaxi.hourofday,greentaxi.payment_type).plot(kind='bar',stacked=True)\n",
    "for i in ax.containers:\n",
    "    ax.bar_label(i,label_type=\"center\")"
   ]
  },
  {
   "cell_type": "code",
   "execution_count": 58,
   "id": "8f21a4f1",
   "metadata": {},
   "outputs": [
    {
     "data": {
      "text/plain": [
       "weekday\n",
       "0    22.877701\n",
       "1    23.908406\n",
       "2    24.135164\n",
       "3    24.015407\n",
       "4    23.763881\n",
       "5    23.861000\n",
       "6    24.365744\n",
       "Name: total_amount, dtype: float64"
      ]
     },
     "execution_count": 58,
     "metadata": {},
     "output_type": "execute_result"
    }
   ],
   "source": [
    "greentaxi.total_amount.groupby(greentaxi.weekday).mean()"
   ]
  },
  {
   "cell_type": "code",
   "execution_count": 59,
   "id": "b3fa955d",
   "metadata": {},
   "outputs": [
    {
     "data": {
      "text/plain": [
       "hourofday\n",
       "0     23.515759\n",
       "1     23.969381\n",
       "2     25.666543\n",
       "3     27.938168\n",
       "4     29.177699\n",
       "5     32.225821\n",
       "6     22.522634\n",
       "7     22.075034\n",
       "8     22.409683\n",
       "9     23.088431\n",
       "10    23.589651\n",
       "11    23.561132\n",
       "12    23.328017\n",
       "13    23.481782\n",
       "14    23.229157\n",
       "15    23.164769\n",
       "16    24.449924\n",
       "17    24.385861\n",
       "18    24.317724\n",
       "19    23.859717\n",
       "20    22.973994\n",
       "21    24.152754\n",
       "22    26.247944\n",
       "23    24.327289\n",
       "Name: total_amount, dtype: float64"
      ]
     },
     "execution_count": 59,
     "metadata": {},
     "output_type": "execute_result"
    }
   ],
   "source": [
    "greentaxi.total_amount.groupby(greentaxi.hourofday).mean()"
   ]
  },
  {
   "cell_type": "code",
   "execution_count": 84,
   "id": "10f187b2",
   "metadata": {},
   "outputs": [
    {
     "data": {
      "text/plain": [
       "payment_type\n",
       "1.0    20.188720\n",
       "2.0    19.918320\n",
       "3.0    11.054270\n",
       "4.0     3.969560\n",
       "5.0     0.533333\n",
       "Name: trip_duration, dtype: float64"
      ]
     },
     "execution_count": 84,
     "metadata": {},
     "output_type": "execute_result"
    }
   ],
   "source": [
    "greentaxi.trip_duration.groupby(greentaxi.payment_type).mean()"
   ]
  },
  {
   "cell_type": "code",
   "execution_count": 61,
   "id": "4099c537",
   "metadata": {},
   "outputs": [],
   "source": [
    "from scipy.stats import ttest_ind"
   ]
  },
  {
   "cell_type": "code",
   "execution_count": 64,
   "id": "8ef8e2b4",
   "metadata": {},
   "outputs": [
    {
     "data": {
      "text/plain": [
       "trip_type\n",
       "1.0    23.352330\n",
       "2.0    38.242895\n",
       "Name: total_amount, dtype: float64"
      ]
     },
     "execution_count": 64,
     "metadata": {},
     "output_type": "execute_result"
    }
   ],
   "source": [
    "greentaxi.total_amount.groupby(greentaxi.trip_type).mean()"
   ]
  },
  {
   "cell_type": "code",
   "execution_count": 65,
   "id": "d0f9cbb1",
   "metadata": {},
   "outputs": [],
   "source": [
    "one=greentaxi[greentaxi.trip_type==1]\n",
    "two=greentaxi[greentaxi.trip_type==2]"
   ]
  },
  {
   "cell_type": "code",
   "execution_count": 66,
   "id": "b6576754",
   "metadata": {},
   "outputs": [
    {
     "data": {
      "text/plain": [
       "Ttest_indResult(statistic=-16.84526324273241, pvalue=5.457304023638798e-60)"
      ]
     },
     "execution_count": 66,
     "metadata": {},
     "output_type": "execute_result"
    }
   ],
   "source": [
    "ttest_ind(one.total_amount,two.total_amount,equal_var=False)"
   ]
  },
  {
   "cell_type": "code",
   "execution_count": 70,
   "id": "a935893a",
   "metadata": {},
   "outputs": [
    {
     "data": {
      "text/plain": [
       "trip_type\n",
       "1.0    2.392882\n",
       "2.0    3.015369\n",
       "Name: tip_amount, dtype: float64"
      ]
     },
     "execution_count": 70,
     "metadata": {},
     "output_type": "execute_result"
    }
   ],
   "source": [
    "greentaxi.tip_amount.groupby(greentaxi.trip_type).mean()"
   ]
  },
  {
   "cell_type": "code",
   "execution_count": 75,
   "id": "90321773",
   "metadata": {},
   "outputs": [],
   "source": [
    "one=greentaxi[greentaxi.trip_type==1.0]\n",
    "two=greentaxi[greentaxi.trip_type==2.0]"
   ]
  },
  {
   "cell_type": "code",
   "execution_count": 76,
   "id": "6dccb273",
   "metadata": {},
   "outputs": [
    {
     "data": {
      "text/plain": [
       "Ttest_indResult(statistic=-3.27456904334513, pvalue=0.0010745858666445013)"
      ]
     },
     "execution_count": 76,
     "metadata": {},
     "output_type": "execute_result"
    }
   ],
   "source": [
    "ttest_ind(one.tip_amount,two.tip_amount,equal_var=False)"
   ]
  },
  {
   "cell_type": "code",
   "execution_count": 86,
   "id": "41bf892b",
   "metadata": {},
   "outputs": [
    {
     "data": {
      "text/plain": [
       "weekday\n",
       "0    22.877701\n",
       "1    23.908406\n",
       "2    24.135164\n",
       "3    24.015407\n",
       "4    23.763881\n",
       "5    23.861000\n",
       "6    24.365744\n",
       "Name: total_amount, dtype: float64"
      ]
     },
     "execution_count": 86,
     "metadata": {},
     "output_type": "execute_result"
    }
   ],
   "source": [
    "greentaxi.total_amount.groupby(greentaxi.weekday).mean()"
   ]
  },
  {
   "cell_type": "code",
   "execution_count": 87,
   "id": "2cd1036f",
   "metadata": {},
   "outputs": [],
   "source": [
    "zero=greentaxi[greentaxi.weekday==0]\n",
    "one=greentaxi[greentaxi.weekday==1]\n",
    "two=greentaxi[greentaxi.weekday==2]\n",
    "three=greentaxi[greentaxi.weekday==3]\n",
    "four=greentaxi[greentaxi.weekday==4]\n",
    "five=greentaxi[greentaxi.weekday==5]\n",
    "six=greentaxi[greentaxi.weekday==6]"
   ]
  },
  {
   "cell_type": "code",
   "execution_count": 88,
   "id": "928e12e8",
   "metadata": {},
   "outputs": [
    {
     "data": {
      "text/plain": [
       "F_onewayResult(statistic=7.208314329063369, pvalue=9.359307410712883e-07)"
      ]
     },
     "execution_count": 88,
     "metadata": {},
     "output_type": "execute_result"
    }
   ],
   "source": [
    "f_oneway(zero.total_amount,one.total_amount,two.total_amount,three.total_amount,four.total_amount,five.total_amount)"
   ]
  },
  {
   "cell_type": "code",
   "execution_count": null,
   "id": "e9125ee6",
   "metadata": {},
   "outputs": [],
   "source": []
  },
  {
   "cell_type": "code",
   "execution_count": 77,
   "id": "1caa4946",
   "metadata": {
    "scrolled": true
   },
   "outputs": [
    {
     "data": {
      "text/plain": [
       "payment_type\n",
       "1.0    1.031508\n",
       "2.0    1.030838\n",
       "3.0    1.059701\n",
       "4.0    1.076389\n",
       "5.0    1.000000\n",
       "Name: trip_type, dtype: float64"
      ]
     },
     "execution_count": 77,
     "metadata": {},
     "output_type": "execute_result"
    }
   ],
   "source": [
    "greentaxi.trip_type.groupby(greentaxi.payment_type).mean()"
   ]
  },
  {
   "cell_type": "code",
   "execution_count": 78,
   "id": "af70e7e2",
   "metadata": {},
   "outputs": [],
   "source": [
    "from scipy.stats import f_oneway"
   ]
  },
  {
   "cell_type": "code",
   "execution_count": 79,
   "id": "21e7bc50",
   "metadata": {},
   "outputs": [],
   "source": [
    "one=greentaxi[greentaxi.payment_type==1.0]\n",
    "two=greentaxi[greentaxi.payment_type==2.0]\n",
    "three=greentaxi[greentaxi.payment_type==3.0]\n",
    "four=greentaxi[greentaxi.payment_type==4.0]\n",
    "five=greentaxi[greentaxi.payment_type==5.0]"
   ]
  },
  {
   "cell_type": "code",
   "execution_count": 80,
   "id": "ed599dba",
   "metadata": {},
   "outputs": [
    {
     "data": {
      "text/plain": [
       "F_onewayResult(statistic=5.072598659392532, pvalue=0.00043814182523747267)"
      ]
     },
     "execution_count": 80,
     "metadata": {},
     "output_type": "execute_result"
    }
   ],
   "source": [
    "f_oneway(one.trip_type,two.trip_type,three.trip_type,four.trip_type,five.trip_type)"
   ]
  },
  {
   "cell_type": "code",
   "execution_count": 81,
   "id": "346c42a1",
   "metadata": {},
   "outputs": [
    {
     "data": {
      "text/plain": [
       "weekday\n",
       "0    2.267933\n",
       "1    2.408225\n",
       "2    2.485913\n",
       "3    2.510017\n",
       "4    2.325503\n",
       "5    2.398024\n",
       "6    2.513699\n",
       "Name: tip_amount, dtype: float64"
      ]
     },
     "execution_count": 81,
     "metadata": {},
     "output_type": "execute_result"
    }
   ],
   "source": [
    "greentaxi.tip_amount.groupby(greentaxi.weekday).mean()"
   ]
  },
  {
   "cell_type": "code",
   "execution_count": 82,
   "id": "80ea8d1c",
   "metadata": {},
   "outputs": [],
   "source": [
    "one=greentaxi[greentaxi.weekday==1]\n",
    "two=greentaxi[greentaxi.weekday==2]\n",
    "three=greentaxi[greentaxi.weekday==3]\n",
    "four=greentaxi[greentaxi.weekday==4]\n",
    "five=greentaxi[greentaxi.weekday==5]\n",
    "six=greentaxi[greentaxi.weekday==6]"
   ]
  },
  {
   "cell_type": "code",
   "execution_count": 83,
   "id": "a3d5d82a",
   "metadata": {},
   "outputs": [
    {
     "data": {
      "text/plain": [
       "F_onewayResult(statistic=3.5343441824941535, pvalue=0.006874332505741229)"
      ]
     },
     "execution_count": 83,
     "metadata": {},
     "output_type": "execute_result"
    }
   ],
   "source": [
    "f_oneway(one.tip_amount,two.tip_amount,three.tip_amount,four.tip_amount,five.tip_amount)"
   ]
  },
  {
   "cell_type": "code",
   "execution_count": 85,
   "id": "21aa62fb",
   "metadata": {},
   "outputs": [
    {
     "data": {
      "text/plain": [
       "payment_type\n",
       "1.0    1.031508\n",
       "2.0    1.030838\n",
       "3.0    1.059701\n",
       "4.0    1.076389\n",
       "5.0    1.000000\n",
       "Name: trip_type, dtype: float64"
      ]
     },
     "execution_count": 85,
     "metadata": {},
     "output_type": "execute_result"
    }
   ],
   "source": [
    "greentaxi.trip_type.groupby(greentaxi.payment_type).mean()"
   ]
  },
  {
   "cell_type": "code",
   "execution_count": 91,
   "id": "d2b01194",
   "metadata": {},
   "outputs": [],
   "source": [
    "#both are categorical so we do   chi-square test \n",
    "from scipy.stats import chi2_contingency"
   ]
  },
  {
   "cell_type": "code",
   "execution_count": 93,
   "id": "ea3e9833",
   "metadata": {},
   "outputs": [
    {
     "data": {
      "text/html": [
       "<div>\n",
       "<style scoped>\n",
       "    .dataframe tbody tr th:only-of-type {\n",
       "        vertical-align: middle;\n",
       "    }\n",
       "\n",
       "    .dataframe tbody tr th {\n",
       "        vertical-align: top;\n",
       "    }\n",
       "\n",
       "    .dataframe thead th {\n",
       "        text-align: right;\n",
       "    }\n",
       "</style>\n",
       "<table border=\"1\" class=\"dataframe\">\n",
       "  <thead>\n",
       "    <tr style=\"text-align: right;\">\n",
       "      <th>payment_type</th>\n",
       "      <th>1.0</th>\n",
       "      <th>2.0</th>\n",
       "      <th>3.0</th>\n",
       "      <th>4.0</th>\n",
       "      <th>5.0</th>\n",
       "    </tr>\n",
       "    <tr>\n",
       "      <th>trip_type</th>\n",
       "      <th></th>\n",
       "      <th></th>\n",
       "      <th></th>\n",
       "      <th></th>\n",
       "      <th></th>\n",
       "    </tr>\n",
       "  </thead>\n",
       "  <tbody>\n",
       "    <tr>\n",
       "      <th>1.0</th>\n",
       "      <td>45800</td>\n",
       "      <td>20679</td>\n",
       "      <td>378</td>\n",
       "      <td>133</td>\n",
       "      <td>1</td>\n",
       "    </tr>\n",
       "    <tr>\n",
       "      <th>2.0</th>\n",
       "      <td>1490</td>\n",
       "      <td>658</td>\n",
       "      <td>24</td>\n",
       "      <td>11</td>\n",
       "      <td>0</td>\n",
       "    </tr>\n",
       "  </tbody>\n",
       "</table>\n",
       "</div>"
      ],
      "text/plain": [
       "payment_type    1.0    2.0  3.0  4.0  5.0\n",
       "trip_type                                \n",
       "1.0           45800  20679  378  133    1\n",
       "2.0            1490    658   24   11    0"
      ]
     },
     "execution_count": 93,
     "metadata": {},
     "output_type": "execute_result"
    }
   ],
   "source": [
    "pd.crosstab(greentaxi.trip_type,greentaxi.payment_type)"
   ]
  },
  {
   "cell_type": "code",
   "execution_count": 92,
   "id": "18ebf2d6",
   "metadata": {},
   "outputs": [
    {
     "data": {
      "text/plain": [
       "Chi2ContingencyResult(statistic=20.285910588961, pvalue=0.0004385012882035308, dof=4, expected_freq=array([[4.57976175e+04, 2.06636448e+04, 3.89313644e+02, 1.39455634e+02,\n",
       "        9.68441900e-01],\n",
       "       [1.49238254e+03, 6.73355177e+02, 1.26863561e+01, 4.54436638e+00,\n",
       "        3.15580999e-02]]))"
      ]
     },
     "execution_count": 92,
     "metadata": {},
     "output_type": "execute_result"
    }
   ],
   "source": [
    "chi2_contingency(pd.crosstab(greentaxi.trip_type,greentaxi.payment_type))"
   ]
  },
  {
   "cell_type": "code",
   "execution_count": 94,
   "id": "9068fbd2",
   "metadata": {},
   "outputs": [
    {
     "data": {
      "text/html": [
       "<div>\n",
       "<style scoped>\n",
       "    .dataframe tbody tr th:only-of-type {\n",
       "        vertical-align: middle;\n",
       "    }\n",
       "\n",
       "    .dataframe tbody tr th {\n",
       "        vertical-align: top;\n",
       "    }\n",
       "\n",
       "    .dataframe thead th {\n",
       "        text-align: right;\n",
       "    }\n",
       "</style>\n",
       "<table border=\"1\" class=\"dataframe\">\n",
       "  <thead>\n",
       "    <tr style=\"text-align: right;\">\n",
       "      <th>payment_type</th>\n",
       "      <th>1.0</th>\n",
       "      <th>2.0</th>\n",
       "      <th>3.0</th>\n",
       "      <th>4.0</th>\n",
       "      <th>5.0</th>\n",
       "    </tr>\n",
       "    <tr>\n",
       "      <th>RatecodeID</th>\n",
       "      <th></th>\n",
       "      <th></th>\n",
       "      <th></th>\n",
       "      <th></th>\n",
       "      <th></th>\n",
       "    </tr>\n",
       "  </thead>\n",
       "  <tbody>\n",
       "    <tr>\n",
       "      <th>1.0</th>\n",
       "      <td>45524</td>\n",
       "      <td>20410</td>\n",
       "      <td>358</td>\n",
       "      <td>131</td>\n",
       "      <td>1</td>\n",
       "    </tr>\n",
       "    <tr>\n",
       "      <th>2.0</th>\n",
       "      <td>138</td>\n",
       "      <td>68</td>\n",
       "      <td>14</td>\n",
       "      <td>0</td>\n",
       "      <td>0</td>\n",
       "    </tr>\n",
       "    <tr>\n",
       "      <th>3.0</th>\n",
       "      <td>22</td>\n",
       "      <td>7</td>\n",
       "      <td>4</td>\n",
       "      <td>1</td>\n",
       "      <td>0</td>\n",
       "    </tr>\n",
       "    <tr>\n",
       "      <th>4.0</th>\n",
       "      <td>38</td>\n",
       "      <td>24</td>\n",
       "      <td>0</td>\n",
       "      <td>1</td>\n",
       "      <td>0</td>\n",
       "    </tr>\n",
       "    <tr>\n",
       "      <th>5.0</th>\n",
       "      <td>1565</td>\n",
       "      <td>828</td>\n",
       "      <td>26</td>\n",
       "      <td>11</td>\n",
       "      <td>0</td>\n",
       "    </tr>\n",
       "    <tr>\n",
       "      <th>99.0</th>\n",
       "      <td>3</td>\n",
       "      <td>0</td>\n",
       "      <td>0</td>\n",
       "      <td>0</td>\n",
       "      <td>0</td>\n",
       "    </tr>\n",
       "  </tbody>\n",
       "</table>\n",
       "</div>"
      ],
      "text/plain": [
       "payment_type    1.0    2.0  3.0  4.0  5.0\n",
       "RatecodeID                               \n",
       "1.0           45524  20410  358  131    1\n",
       "2.0             138     68   14    0    0\n",
       "3.0              22      7    4    1    0\n",
       "4.0              38     24    0    1    0\n",
       "5.0            1565    828   26   11    0\n",
       "99.0              3      0    0    0    0"
      ]
     },
     "execution_count": 94,
     "metadata": {},
     "output_type": "execute_result"
    }
   ],
   "source": [
    "pd.crosstab(greentaxi.RatecodeID,greentaxi.payment_type)"
   ]
  },
  {
   "cell_type": "code",
   "execution_count": 95,
   "id": "06b13532",
   "metadata": {},
   "outputs": [
    {
     "data": {
      "text/plain": [
       "Chi2ContingencyResult(statistic=257.646461298014, pvalue=3.2670230054629802e-43, dof=20, expected_freq=array([[4.54099945e+04, 2.04887514e+04, 3.86018562e+02, 1.38275306e+02,\n",
       "        9.60245179e-01],\n",
       "       [1.50400439e+02, 6.78598896e+01, 1.27851505e+00, 4.57975540e-01,\n",
       "        3.18038569e-03],\n",
       "       [2.32437043e+01, 1.04874375e+01, 1.97588689e-01, 7.07780380e-02,\n",
       "        4.91514153e-04],\n",
       "       [4.30692168e+01, 1.94326047e+01, 3.66120219e-01, 1.31147541e-01,\n",
       "        9.10746812e-04],\n",
       "       [1.66124122e+03, 7.49543326e+02, 1.41217799e+01, 5.05854801e+00,\n",
       "        3.51288056e-02],\n",
       "       [2.05091508e+00, 9.25362130e-01, 1.74342961e-02, 6.24512100e-03,\n",
       "        4.33688958e-05]]))"
      ]
     },
     "execution_count": 95,
     "metadata": {},
     "output_type": "execute_result"
    }
   ],
   "source": [
    "chi2_contingency(pd.crosstab(greentaxi.RatecodeID,greentaxi.payment_type))"
   ]
  },
  {
   "cell_type": "code",
   "execution_count": 96,
   "id": "b3c1e4e9",
   "metadata": {},
   "outputs": [
    {
     "data": {
      "text/html": [
       "<div>\n",
       "<style scoped>\n",
       "    .dataframe tbody tr th:only-of-type {\n",
       "        vertical-align: middle;\n",
       "    }\n",
       "\n",
       "    .dataframe tbody tr th {\n",
       "        vertical-align: top;\n",
       "    }\n",
       "\n",
       "    .dataframe thead th {\n",
       "        text-align: right;\n",
       "    }\n",
       "</style>\n",
       "<table border=\"1\" class=\"dataframe\">\n",
       "  <thead>\n",
       "    <tr style=\"text-align: right;\">\n",
       "      <th>payment_type</th>\n",
       "      <th>1.0</th>\n",
       "      <th>2.0</th>\n",
       "      <th>3.0</th>\n",
       "      <th>4.0</th>\n",
       "      <th>5.0</th>\n",
       "    </tr>\n",
       "    <tr>\n",
       "      <th>weekday</th>\n",
       "      <th></th>\n",
       "      <th></th>\n",
       "      <th></th>\n",
       "      <th></th>\n",
       "      <th></th>\n",
       "    </tr>\n",
       "  </thead>\n",
       "  <tbody>\n",
       "    <tr>\n",
       "      <th>0</th>\n",
       "      <td>7296</td>\n",
       "      <td>3552</td>\n",
       "      <td>60</td>\n",
       "      <td>26</td>\n",
       "      <td>0</td>\n",
       "    </tr>\n",
       "    <tr>\n",
       "      <th>1</th>\n",
       "      <td>7577</td>\n",
       "      <td>3402</td>\n",
       "      <td>61</td>\n",
       "      <td>22</td>\n",
       "      <td>0</td>\n",
       "    </tr>\n",
       "    <tr>\n",
       "      <th>2</th>\n",
       "      <td>8363</td>\n",
       "      <td>3515</td>\n",
       "      <td>81</td>\n",
       "      <td>21</td>\n",
       "      <td>0</td>\n",
       "    </tr>\n",
       "    <tr>\n",
       "      <th>3</th>\n",
       "      <td>7049</td>\n",
       "      <td>2959</td>\n",
       "      <td>61</td>\n",
       "      <td>15</td>\n",
       "      <td>1</td>\n",
       "    </tr>\n",
       "    <tr>\n",
       "      <th>4</th>\n",
       "      <td>6551</td>\n",
       "      <td>3085</td>\n",
       "      <td>61</td>\n",
       "      <td>40</td>\n",
       "      <td>0</td>\n",
       "    </tr>\n",
       "    <tr>\n",
       "      <th>5</th>\n",
       "      <td>5515</td>\n",
       "      <td>2573</td>\n",
       "      <td>46</td>\n",
       "      <td>10</td>\n",
       "      <td>0</td>\n",
       "    </tr>\n",
       "    <tr>\n",
       "      <th>6</th>\n",
       "      <td>4939</td>\n",
       "      <td>2251</td>\n",
       "      <td>32</td>\n",
       "      <td>10</td>\n",
       "      <td>0</td>\n",
       "    </tr>\n",
       "  </tbody>\n",
       "</table>\n",
       "</div>"
      ],
      "text/plain": [
       "payment_type   1.0   2.0  3.0  4.0  5.0\n",
       "weekday                                \n",
       "0             7296  3552   60   26    0\n",
       "1             7577  3402   61   22    0\n",
       "2             8363  3515   81   21    0\n",
       "3             7049  2959   61   15    1\n",
       "4             6551  3085   61   40    0\n",
       "5             5515  2573   46   10    0\n",
       "6             4939  2251   32   10    0"
      ]
     },
     "execution_count": 96,
     "metadata": {},
     "output_type": "execute_result"
    }
   ],
   "source": [
    "pd.crosstab(greentaxi.weekday,greentaxi.payment_type)"
   ]
  },
  {
   "cell_type": "code",
   "execution_count": 97,
   "id": "2970357d",
   "metadata": {},
   "outputs": [
    {
     "data": {
      "text/plain": [
       "Chi2ContingencyResult(statistic=80.80132526421853, pvalue=4.532248995318973e-08, dof=24, expected_freq=array([[7.47490184e+03, 3.37263651e+03, 6.35421979e+01, 2.27613843e+01,\n",
       "        1.58065169e-01],\n",
       "       [7.56240755e+03, 3.41211863e+03, 6.42860612e+01, 2.30278428e+01,\n",
       "        1.59915575e-01],\n",
       "       [8.18998757e+03, 3.69527944e+03, 6.96209559e+01, 2.49388499e+01,\n",
       "        1.73186457e-01],\n",
       "       [6.89449287e+03, 3.11075903e+03, 5.86082921e+01, 2.09940151e+01,\n",
       "        1.45791771e-01],\n",
       "       [6.65658672e+03, 3.00341702e+03, 5.65859138e+01, 2.02695811e+01,\n",
       "        1.40760980e-01],\n",
       "       [5.56755081e+03, 2.51204973e+03, 4.73283025e+01, 1.69534218e+01,\n",
       "        1.17732096e-01],\n",
       "       [4.94407263e+03, 2.23073964e+03, 4.20282765e+01, 1.50549050e+01,\n",
       "        1.04547952e-01]]))"
      ]
     },
     "execution_count": 97,
     "metadata": {},
     "output_type": "execute_result"
    }
   ],
   "source": [
    "chi2_contingency(pd.crosstab(greentaxi.weekday,greentaxi.payment_type))"
   ]
  },
  {
   "cell_type": "code",
   "execution_count": 98,
   "id": "a8c1d54f",
   "metadata": {},
   "outputs": [
    {
     "data": {
      "text/html": [
       "<div>\n",
       "<style scoped>\n",
       "    .dataframe tbody tr th:only-of-type {\n",
       "        vertical-align: middle;\n",
       "    }\n",
       "\n",
       "    .dataframe tbody tr th {\n",
       "        vertical-align: top;\n",
       "    }\n",
       "\n",
       "    .dataframe thead th {\n",
       "        text-align: right;\n",
       "    }\n",
       "</style>\n",
       "<table border=\"1\" class=\"dataframe\">\n",
       "  <thead>\n",
       "    <tr style=\"text-align: right;\">\n",
       "      <th>trip_type</th>\n",
       "      <th>1.0</th>\n",
       "      <th>2.0</th>\n",
       "    </tr>\n",
       "    <tr>\n",
       "      <th>weekday</th>\n",
       "      <th></th>\n",
       "      <th></th>\n",
       "    </tr>\n",
       "  </thead>\n",
       "  <tbody>\n",
       "    <tr>\n",
       "      <th>0</th>\n",
       "      <td>10635</td>\n",
       "      <td>299</td>\n",
       "    </tr>\n",
       "    <tr>\n",
       "      <th>1</th>\n",
       "      <td>10775</td>\n",
       "      <td>287</td>\n",
       "    </tr>\n",
       "    <tr>\n",
       "      <th>2</th>\n",
       "      <td>11679</td>\n",
       "      <td>301</td>\n",
       "    </tr>\n",
       "    <tr>\n",
       "      <th>3</th>\n",
       "      <td>9839</td>\n",
       "      <td>246</td>\n",
       "    </tr>\n",
       "    <tr>\n",
       "      <th>4</th>\n",
       "      <td>9425</td>\n",
       "      <td>312</td>\n",
       "    </tr>\n",
       "    <tr>\n",
       "      <th>5</th>\n",
       "      <td>7782</td>\n",
       "      <td>362</td>\n",
       "    </tr>\n",
       "    <tr>\n",
       "      <th>6</th>\n",
       "      <td>6856</td>\n",
       "      <td>376</td>\n",
       "    </tr>\n",
       "  </tbody>\n",
       "</table>\n",
       "</div>"
      ],
      "text/plain": [
       "trip_type    1.0  2.0\n",
       "weekday              \n",
       "0          10635  299\n",
       "1          10775  287\n",
       "2          11679  301\n",
       "3           9839  246\n",
       "4           9425  312\n",
       "5           7782  362\n",
       "6           6856  376"
      ]
     },
     "execution_count": 98,
     "metadata": {},
     "output_type": "execute_result"
    }
   ],
   "source": [
    "pd.crosstab(greentaxi.weekday,greentaxi.trip_type)"
   ]
  },
  {
   "cell_type": "code",
   "execution_count": 99,
   "id": "cd57e044",
   "metadata": {},
   "outputs": [
    {
     "data": {
      "text/plain": [
       "Chi2ContingencyResult(statistic=194.0751725639184, pvalue=3.458694063594574e-39, dof=6, expected_freq=array([[10588.94373609,   345.05626391],\n",
       "       [10712.9042993 ,   349.0957007 ],\n",
       "       [11601.93396363,   378.06603637],\n",
       "       [ 9766.73656287,   318.26343713],\n",
       "       [ 9429.71878162,   307.28121838],\n",
       "       [ 7886.99083471,   257.00916529],\n",
       "       [ 7003.77182178,   228.22817822]]))"
      ]
     },
     "execution_count": 99,
     "metadata": {},
     "output_type": "execute_result"
    }
   ],
   "source": [
    "chi2_contingency(pd.crosstab(greentaxi.weekday,greentaxi.trip_type))"
   ]
  },
  {
   "cell_type": "code",
   "execution_count": 100,
   "id": "0901410b",
   "metadata": {},
   "outputs": [
    {
     "data": {
      "text/plain": [
       "Index(['VendorID', 'lpep_pickup_datetime', 'lpep_dropoff_datetime',\n",
       "       'store_and_fwd_flag', 'RatecodeID', 'PULocationID', 'DOLocationID',\n",
       "       'passenger_count', 'trip_distance', 'fare_amount', 'extra', 'mta_tax',\n",
       "       'tip_amount', 'tolls_amount', 'improvement_surcharge', 'total_amount',\n",
       "       'payment_type', 'trip_type', 'congestion_surcharge', 'trip_duration',\n",
       "       'weekday', 'hourofday'],\n",
       "      dtype='object')"
      ]
     },
     "execution_count": 100,
     "metadata": {},
     "output_type": "execute_result"
    }
   ],
   "source": [
    "greentaxi.columns"
   ]
  },
  {
   "cell_type": "code",
   "execution_count": 101,
   "id": "55a87b8b",
   "metadata": {},
   "outputs": [],
   "source": [
    "#split data"
   ]
  },
  {
   "cell_type": "code",
   "execution_count": 108,
   "id": "2a3fd17e",
   "metadata": {},
   "outputs": [],
   "source": [
    "numcols=greentaxi[['trip_distance', 'fare_amount', 'extra', 'mta_tax',\n",
    "       'tip_amount', 'tolls_amount', 'improvement_surcharge',\n",
    "        'congestion_surcharge', 'trip_duration']]\n",
    "objcols=greentaxi[['store_and_fwd_flag', 'RatecodeID','passenger_count','payment_type', 'trip_type','weekday', 'hourofday']]"
   ]
  },
  {
   "cell_type": "code",
   "execution_count": 110,
   "id": "b0473225",
   "metadata": {},
   "outputs": [
    {
     "data": {
      "text/plain": [
       "Index(['trip_distance', 'fare_amount', 'extra', 'mta_tax', 'tip_amount',\n",
       "       'tolls_amount', 'improvement_surcharge', 'congestion_surcharge',\n",
       "       'trip_duration'],\n",
       "      dtype='object')"
      ]
     },
     "execution_count": 110,
     "metadata": {},
     "output_type": "execute_result"
    }
   ],
   "source": [
    "numcols.columns"
   ]
  },
  {
   "cell_type": "code",
   "execution_count": 111,
   "id": "d5bc085c",
   "metadata": {},
   "outputs": [
    {
     "data": {
      "text/html": [
       "<div>\n",
       "<style scoped>\n",
       "    .dataframe tbody tr th:only-of-type {\n",
       "        vertical-align: middle;\n",
       "    }\n",
       "\n",
       "    .dataframe tbody tr th {\n",
       "        vertical-align: top;\n",
       "    }\n",
       "\n",
       "    .dataframe thead th {\n",
       "        text-align: right;\n",
       "    }\n",
       "</style>\n",
       "<table border=\"1\" class=\"dataframe\">\n",
       "  <thead>\n",
       "    <tr style=\"text-align: right;\">\n",
       "      <th></th>\n",
       "      <th>trip_distance</th>\n",
       "      <th>fare_amount</th>\n",
       "      <th>extra</th>\n",
       "      <th>mta_tax</th>\n",
       "      <th>tip_amount</th>\n",
       "      <th>tolls_amount</th>\n",
       "      <th>improvement_surcharge</th>\n",
       "      <th>congestion_surcharge</th>\n",
       "      <th>trip_duration</th>\n",
       "    </tr>\n",
       "  </thead>\n",
       "  <tbody>\n",
       "    <tr>\n",
       "      <th>0</th>\n",
       "      <td>6.99</td>\n",
       "      <td>28.90</td>\n",
       "      <td>1.0</td>\n",
       "      <td>0.5</td>\n",
       "      <td>0.00</td>\n",
       "      <td>0.00</td>\n",
       "      <td>1.0</td>\n",
       "      <td>0.00</td>\n",
       "      <td>13.266667</td>\n",
       "    </tr>\n",
       "    <tr>\n",
       "      <th>1</th>\n",
       "      <td>6.60</td>\n",
       "      <td>30.30</td>\n",
       "      <td>1.0</td>\n",
       "      <td>0.5</td>\n",
       "      <td>5.00</td>\n",
       "      <td>0.00</td>\n",
       "      <td>1.0</td>\n",
       "      <td>2.75</td>\n",
       "      <td>20.366667</td>\n",
       "    </tr>\n",
       "    <tr>\n",
       "      <th>2</th>\n",
       "      <td>1.34</td>\n",
       "      <td>9.30</td>\n",
       "      <td>1.0</td>\n",
       "      <td>0.5</td>\n",
       "      <td>2.36</td>\n",
       "      <td>0.00</td>\n",
       "      <td>1.0</td>\n",
       "      <td>0.00</td>\n",
       "      <td>6.883333</td>\n",
       "    </tr>\n",
       "    <tr>\n",
       "      <th>3</th>\n",
       "      <td>7.79</td>\n",
       "      <td>22.73</td>\n",
       "      <td>0.0</td>\n",
       "      <td>0.0</td>\n",
       "      <td>2.29</td>\n",
       "      <td>6.55</td>\n",
       "      <td>1.0</td>\n",
       "      <td>0.00</td>\n",
       "      <td>20.450000</td>\n",
       "    </tr>\n",
       "    <tr>\n",
       "      <th>4</th>\n",
       "      <td>0.70</td>\n",
       "      <td>6.50</td>\n",
       "      <td>1.0</td>\n",
       "      <td>0.5</td>\n",
       "      <td>0.00</td>\n",
       "      <td>0.00</td>\n",
       "      <td>1.0</td>\n",
       "      <td>0.00</td>\n",
       "      <td>3.466667</td>\n",
       "    </tr>\n",
       "  </tbody>\n",
       "</table>\n",
       "</div>"
      ],
      "text/plain": [
       "   trip_distance  fare_amount  extra  mta_tax  tip_amount  tolls_amount  \\\n",
       "0           6.99        28.90    1.0      0.5        0.00          0.00   \n",
       "1           6.60        30.30    1.0      0.5        5.00          0.00   \n",
       "2           1.34         9.30    1.0      0.5        2.36          0.00   \n",
       "3           7.79        22.73    0.0      0.0        2.29          6.55   \n",
       "4           0.70         6.50    1.0      0.5        0.00          0.00   \n",
       "\n",
       "   improvement_surcharge  congestion_surcharge  trip_duration  \n",
       "0                    1.0                  0.00      13.266667  \n",
       "1                    1.0                  2.75      20.366667  \n",
       "2                    1.0                  0.00       6.883333  \n",
       "3                    1.0                  0.00      20.450000  \n",
       "4                    1.0                  0.00       3.466667  "
      ]
     },
     "execution_count": 111,
     "metadata": {},
     "output_type": "execute_result"
    }
   ],
   "source": [
    "numcols.head()"
   ]
  },
  {
   "cell_type": "code",
   "execution_count": 112,
   "id": "ad948229",
   "metadata": {
    "scrolled": true
   },
   "outputs": [
    {
     "data": {
      "text/html": [
       "<div>\n",
       "<style scoped>\n",
       "    .dataframe tbody tr th:only-of-type {\n",
       "        vertical-align: middle;\n",
       "    }\n",
       "\n",
       "    .dataframe tbody tr th {\n",
       "        vertical-align: top;\n",
       "    }\n",
       "\n",
       "    .dataframe thead th {\n",
       "        text-align: right;\n",
       "    }\n",
       "</style>\n",
       "<table border=\"1\" class=\"dataframe\">\n",
       "  <thead>\n",
       "    <tr style=\"text-align: right;\">\n",
       "      <th></th>\n",
       "      <th>store_and_fwd_flag</th>\n",
       "      <th>RatecodeID</th>\n",
       "      <th>passenger_count</th>\n",
       "      <th>payment_type</th>\n",
       "      <th>trip_type</th>\n",
       "      <th>weekday</th>\n",
       "      <th>hourofday</th>\n",
       "    </tr>\n",
       "  </thead>\n",
       "  <tbody>\n",
       "    <tr>\n",
       "      <th>0</th>\n",
       "      <td>N</td>\n",
       "      <td>1.0</td>\n",
       "      <td>1.0</td>\n",
       "      <td>1.0</td>\n",
       "      <td>1.0</td>\n",
       "      <td>0</td>\n",
       "      <td>1</td>\n",
       "    </tr>\n",
       "    <tr>\n",
       "      <th>1</th>\n",
       "      <td>N</td>\n",
       "      <td>1.0</td>\n",
       "      <td>1.0</td>\n",
       "      <td>1.0</td>\n",
       "      <td>1.0</td>\n",
       "      <td>0</td>\n",
       "      <td>0</td>\n",
       "    </tr>\n",
       "    <tr>\n",
       "      <th>2</th>\n",
       "      <td>N</td>\n",
       "      <td>1.0</td>\n",
       "      <td>1.0</td>\n",
       "      <td>1.0</td>\n",
       "      <td>1.0</td>\n",
       "      <td>0</td>\n",
       "      <td>0</td>\n",
       "    </tr>\n",
       "    <tr>\n",
       "      <th>3</th>\n",
       "      <td>N</td>\n",
       "      <td>5.0</td>\n",
       "      <td>1.0</td>\n",
       "      <td>1.0</td>\n",
       "      <td>1.0</td>\n",
       "      <td>0</td>\n",
       "      <td>0</td>\n",
       "    </tr>\n",
       "    <tr>\n",
       "      <th>4</th>\n",
       "      <td>N</td>\n",
       "      <td>1.0</td>\n",
       "      <td>1.0</td>\n",
       "      <td>2.0</td>\n",
       "      <td>1.0</td>\n",
       "      <td>0</td>\n",
       "      <td>0</td>\n",
       "    </tr>\n",
       "  </tbody>\n",
       "</table>\n",
       "</div>"
      ],
      "text/plain": [
       "  store_and_fwd_flag  RatecodeID  passenger_count  payment_type  trip_type  \\\n",
       "0                  N         1.0              1.0           1.0        1.0   \n",
       "1                  N         1.0              1.0           1.0        1.0   \n",
       "2                  N         1.0              1.0           1.0        1.0   \n",
       "3                  N         5.0              1.0           1.0        1.0   \n",
       "4                  N         1.0              1.0           2.0        1.0   \n",
       "\n",
       "   weekday  hourofday  \n",
       "0        0          1  \n",
       "1        0          0  \n",
       "2        0          0  \n",
       "3        0          0  \n",
       "4        0          0  "
      ]
     },
     "execution_count": 112,
     "metadata": {},
     "output_type": "execute_result"
    }
   ],
   "source": [
    "objcols.head()"
   ]
  },
  {
   "cell_type": "code",
   "execution_count": 113,
   "id": "cfee5925",
   "metadata": {},
   "outputs": [],
   "source": [
    "objcols_dummy = pd.get_dummies(objcols,columns=['store_and_fwd_flag', 'RatecodeID','passenger_count','payment_type', 'trip_type','weekday', 'hourofday'])"
   ]
  },
  {
   "cell_type": "code",
   "execution_count": 115,
   "id": "b4b4990d",
   "metadata": {
    "scrolled": true
   },
   "outputs": [],
   "source": [
    "x=pd.concat([numcols,objcols_dummy],axis=1)"
   ]
  },
  {
   "cell_type": "code",
   "execution_count": 116,
   "id": "9718f56b",
   "metadata": {},
   "outputs": [],
   "source": [
    "y=greentaxi.total_amount"
   ]
  },
  {
   "cell_type": "code",
   "execution_count": 118,
   "id": "59a69757",
   "metadata": {},
   "outputs": [],
   "source": [
    "import seaborn as sns"
   ]
  },
  {
   "cell_type": "code",
   "execution_count": null,
   "id": "94201f59",
   "metadata": {},
   "outputs": [],
   "source": []
  },
  {
   "cell_type": "code",
   "execution_count": null,
   "id": "ded2b25f",
   "metadata": {},
   "outputs": [],
   "source": []
  },
  {
   "cell_type": "code",
   "execution_count": 119,
   "id": "6d9adb37",
   "metadata": {},
   "outputs": [
    {
     "data": {
      "text/plain": [
       "<Figure size 3000x1500 with 0 Axes>"
      ]
     },
     "metadata": {},
     "output_type": "display_data"
    },
    {
     "data": {
      "image/png": "[encoded data removed]",
      "text/plain": [
       "<Figure size 640x480 with 3 Axes>"
      ]
     },
     "metadata": {},
     "output_type": "display_data"
    }
   ],
   "source": [
    "plt.figure(figsize=(30,15))\n",
    "fig,ax=plt.subplots(3,1)\n",
    "sns.kdeplot(y,ax=ax[0])\n",
    "sns.boxplot(y,orient=\"h\",ax=ax[1])\n",
    "sns.histplot(y,ax=ax[2])\n",
    "plt.show()"
   ]
  },
  {
   "cell_type": "code",
   "execution_count": null,
   "id": "c1f30f49",
   "metadata": {},
   "outputs": [],
   "source": []
  },
  {
   "cell_type": "code",
   "execution_count": 120,
   "id": "e3d252db",
   "metadata": {},
   "outputs": [],
   "source": [
    "numcols2=numcols"
   ]
  },
  {
   "cell_type": "code",
   "execution_count": 121,
   "id": "30ce14b1",
   "metadata": {},
   "outputs": [
    {
     "name": "stderr",
     "output_type": "stream",
     "text": [
      "C:\\Users\\swati\\AppData\\Local\\Temp\\ipykernel_2068\\3269730445.py:1: SettingWithCopyWarning: \n",
      "A value is trying to be set on a copy of a slice from a DataFrame.\n",
      "Try using .loc[row_indexer,col_indexer] = value instead\n",
      "\n",
      "See the caveats in the documentation: https://pandas.pydata.org/pandas-docs/stable/user_guide/indexing.html#returning-a-view-versus-a-copy\n",
      "  numcols2['total_amount']=greentaxi.total_amount\n"
     ]
    }
   ],
   "source": [
    "numcols2['total_amount']=greentaxi.total_amount"
   ]
  },
  {
   "cell_type": "code",
   "execution_count": 128,
   "id": "1ab9c833",
   "metadata": {},
   "outputs": [
    {
     "data": {
      "text/plain": [
       "<Axes: >"
      ]
     },
     "execution_count": 128,
     "metadata": {},
     "output_type": "execute_result"
    },
    {
     "data": {
      "image/png": "[encoded data removed]",
      "text/plain": [
       "<Figure size 640x480 with 2 Axes>"
      ]
     },
     "metadata": {},
     "output_type": "display_data"
    }
   ],
   "source": [
    "sns.heatmap(numcols2.corr(),annot=True)"
   ]
  },
  {
   "cell_type": "code",
   "execution_count": null,
   "id": "0608baa0",
   "metadata": {},
   "outputs": [],
   "source": [
    "from sklearn.stats import linear"
   ]
  }
 ],
 "metadata": {
  "kernelspec": {
   "display_name": "Python 3 (ipykernel)",
   "language": "python",
   "name": "python3"
  },
  "language_info": {
   "codemirror_mode": {
    "name": "ipython",
    "version": 3
   },
   "file_extension": ".py",
   "mimetype": "text/x-python",
   "name": "python",
   "nbconvert_exporter": "python",
   "pygments_lexer": "ipython3",
   "version": "3.11.3"
  }
 },
 "nbformat": 4,
 "nbformat_minor": 5
}
